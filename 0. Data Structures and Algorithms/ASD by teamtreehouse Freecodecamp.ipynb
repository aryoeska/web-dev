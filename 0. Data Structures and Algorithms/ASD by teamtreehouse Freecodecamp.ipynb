{
 "cells": [
  {
   "cell_type": "markdown",
   "metadata": {},
   "source": [
    "### Algorithms a set of steps of program takes to finish task, this is the guidelines to defining algorithms\n",
    "\n",
    "<img src=\"./img/algo guidelines.png\" alt=\"description\" width=\"400\"/>\n",
    "\n",
    "1. Linear Search, start from beginning of the list or range of values and compare to the target\n",
    "\n",
    "<img src=\"./img/linear search.png\" alt=\"description\" width=\"400\"/>\n",
    "\n",
    "2. Binary Search, start from determine the middle position of the sorted list, check if the value is greater or lower than the target, then repeat it into middle position again untill the target is found, if the target element doesn't match then end with indicating that does not exist in the list\n",
    "\n",
    "<img src=\"./img/binary search.png\" alt=\"description\" width=\"400\"/>\n"
   ]
  },
  {
   "cell_type": "markdown",
   "metadata": {},
   "source": [
    "## Linear Search Implementation"
   ]
  },
  {
   "cell_type": "code",
   "execution_count": 7,
   "metadata": {},
   "outputs": [],
   "source": [
    "def linear_search(list, target):\n",
    "    \"\"\"Return the index position of the target if found, else return None\"\"\"\n",
    "\n",
    "    for i in range(0, len(list)):\n",
    "        if list[i] == target:\n",
    "            return i\n",
    "    return None\n",
    "\n",
    "def verify(index):\n",
    "    if index is not None:\n",
    "        print('Target found at index : ', index)\n",
    "    else :\n",
    "        print('Target not found')"
   ]
  },
  {
   "cell_type": "code",
   "execution_count": 8,
   "metadata": {},
   "outputs": [
    {
     "name": "stdout",
     "output_type": "stream",
     "text": [
      "Target not found\n",
      "Target found at index :  11\n"
     ]
    }
   ],
   "source": [
    "list_numbers = [1,2,3,4,5,6,7,8,9,10,11,12,13,14,15,16,17,18,18,20]\n",
    "\n",
    "result = linear_search(list_numbers, 22)\n",
    "verify(result)\n",
    "\n",
    "\n",
    "result = linear_search(list_numbers, 12)\n",
    "verify(result)"
   ]
  },
  {
   "cell_type": "markdown",
   "metadata": {},
   "source": [
    "### Solve This Question 1!\n",
    "\n",
    "Make a function of linear_search_string that contains two parameter (arr and target). This function must return the first index where target found in arr, or -1 if target not found "
   ]
  },
  {
   "cell_type": "code",
   "execution_count": 21,
   "metadata": {},
   "outputs": [
    {
     "name": "stdout",
     "output_type": "stream",
     "text": [
      "2\n",
      "-1\n"
     ]
    }
   ],
   "source": [
    "def linear_search_string(arr,target):\n",
    "    for i in range(len(arr)):\n",
    "        if list[i] == target:\n",
    "            return i\n",
    "    return -1\n",
    "\n",
    "item_list = [\"apple\", \"banana\", \"cherry\", \"grape\"]\n",
    "target = \"cherry\"\n",
    "print(linear_search_string(item_list, target))  # Output: 2\n",
    "\n",
    "item_list = [\"apple\", \"banana\", \"cherry\", \"grape\"]\n",
    "target = \"orange\"\n",
    "print(linear_search_string(item_list, target))  # Output: 2"
   ]
  },
  {
   "cell_type": "markdown",
   "metadata": {},
   "source": [
    "### Solve This Question 2!\n",
    "\n",
    "Make the function that accept two parameter (a tuple of name and age, taget). The function return the age of the searched name, or -1 if the name is not found"
   ]
  },
  {
   "cell_type": "code",
   "execution_count": 40,
   "metadata": {},
   "outputs": [],
   "source": [
    "def linear_search_age(arr, target):\n",
    "    for name, age in arr: \n",
    "        if name == target:\n",
    "            return age\n",
    "    return -1"
   ]
  },
  {
   "cell_type": "code",
   "execution_count": 42,
   "metadata": {},
   "outputs": [
    {
     "name": "stdout",
     "output_type": "stream",
     "text": [
      "-1\n",
      "35\n"
     ]
    }
   ],
   "source": [
    "name_list = [(\"Aryo\", 30), (\"Sasi\", 25), (\"Kirono\", 35)]\n",
    "target = \"Bob\"\n",
    "print(linear_search_age(name_list,target))\n",
    "\n",
    "name_list = [(\"Aryo\", 30), (\"Sasi\", 25), (\"Kirono\", 35)]\n",
    "target = \"Kirono\"\n",
    "print(linear_search_age(name_list,target))\n"
   ]
  },
  {
   "cell_type": "code",
   "execution_count": 49,
   "metadata": {},
   "outputs": [
    {
     "name": "stdout",
     "output_type": "stream",
     "text": [
      "Alice\n",
      "-1\n"
     ]
    }
   ],
   "source": []
  },
  {
   "cell_type": "code",
   "execution_count": 50,
   "metadata": {},
   "outputs": [
    {
     "data": {
      "text/plain": [
       "dict_items([('Alice', 30), ('Bob', 25), ('Charlie', 35)])"
      ]
     },
     "execution_count": 50,
     "metadata": {},
     "output_type": "execute_result"
    }
   ],
   "source": [
    "d.items()"
   ]
  },
  {
   "cell_type": "code",
   "execution_count": null,
   "metadata": {},
   "outputs": [],
   "source": []
  }
 ],
 "metadata": {
  "kernelspec": {
   "display_name": "base",
   "language": "python",
   "name": "python3"
  },
  "language_info": {
   "codemirror_mode": {
    "name": "ipython",
    "version": 3
   },
   "file_extension": ".py",
   "mimetype": "text/x-python",
   "name": "python",
   "nbconvert_exporter": "python",
   "pygments_lexer": "ipython3",
   "version": "3.11.9"
  }
 },
 "nbformat": 4,
 "nbformat_minor": 2
}
